{
 "cells": [
  {
   "cell_type": "code",
   "execution_count": 4,
   "metadata": {},
   "outputs": [],
   "source": [
    "# Ideal Gas (L*atm/mol*K)\n",
    "R = 0.0821\n",
    "\n",
    "# Temperature (K)\n",
    "K = 298.15\n",
    "\n",
    "# Volume of gas under SATP\n",
    "satp_V = 22.4\n",
    "\n",
    "# Total pressure (atm)\n",
    "tATM = 1\n",
    "\n",
    "# i.e., VOC diluted in water\n",
    "h_2oRho = 1000 # density of water (g/L)\n",
    "h_2oMW = 18.01528 # molecular weight of water (g/mol)\n",
    "h_2oVP = 0.0313 # vapor pressure of water (atm) at 25 Degree C\n",
    "h_20Vol = 0.05 # volume of water (L)\n",
    "\n"
   ]
  },
  {
   "cell_type": "code",
   "execution_count": 9,
   "metadata": {},
   "outputs": [],
   "source": [
    "   # Water\n",
    "   wRho = 1000 # density of water (g/L)\n",
    "   wMW = 18.01528 # molecular weight of water (g/mol)\n",
    "   wVP = 0.0313 # vapor pressure of water (atm) at 25 Degree C\n",
    "\n",
    "    # Volume of water (L)\n",
    "   wVol = 0.05\n",
    "\n",
    " # Acetone\n",
    "   aRho = 791 # density of acetone (g/L)\n",
    "   aMW = 58.08 # molecular weight of acetone (g/mol)\n",
    "   aVP = 0.304 # vapor pressure of acetone (atm) at 25 Degree C\n",
    "\n",
    "    # Volume of acetone (L)\n",
    "   aVol = 0.00005\n",
    "\n",
    "# Ethanol\n",
    "   eRho = 791 # density of Ethanol (g/L)\n",
    "   eMW = 46.068 # molecular weight of Ethanol (g/mol)\n",
    "   eVP = 0.0773074 # vapor pressure of Ethanol (atm) at 25 Degree C\n",
    "\n",
    "    # Volume of Ethanol (L)\n",
    "   eVol = 0.00005\n",
    "\n"
   ]
  },
  {
   "cell_type": "code",
   "execution_count": 11,
   "metadata": {},
   "outputs": [],
   "source": [
    "def volToMass(vol, rho):\n",
    "    g = vol * rho\n",
    "    return g\n"
   ]
  },
  {
   "cell_type": "code",
   "execution_count": 12,
   "metadata": {},
   "outputs": [],
   "source": [
    "def massToMoles(mass, mw):\n",
    "    n = mass / mw\n",
    "    return n\n"
   ]
  },
  {
   "cell_type": "code",
   "execution_count": 13,
   "metadata": {},
   "outputs": [],
   "source": [
    "\n",
    "def molFraction(n1, n2):\n",
    "    # calculate total moles in the system\n",
    "    nT = n1 + n2\n",
    "    X = n1 / nT\n",
    "    # return mole fraction of the first component\n",
    "    return X"
   ]
  },
  {
   "cell_type": "code",
   "execution_count": 14,
   "metadata": {},
   "outputs": [],
   "source": [
    "\n",
    "def molFractionsec(n1, n2, n3):\n",
    "    # calculate total moles in the system\n",
    "    nT = n1 + n2+ n3\n",
    "    Y = n3 / nT\n",
    "    # return mole fraction of the second component\n",
    "    return Y"
   ]
  },
  {
   "cell_type": "code",
   "execution_count": 15,
   "metadata": {},
   "outputs": [],
   "source": [
    "def vocPP(X, VP, tATM ):\n",
    "    VPP = X * (VP/tATM)\n",
    "    return VPP\n"
   ]
  },
  {
   "cell_type": "code",
   "execution_count": 27,
   "metadata": {},
   "outputs": [],
   "source": [
    "def concMole(VPP, R, K):\n",
    "    n = VPP / (R * K)\n",
    "    cM = n / satp_V\n",
    "    return cM"
   ]
  },
  {
   "cell_type": "code",
   "execution_count": 17,
   "metadata": {},
   "outputs": [],
   "source": [
    "def volToMole(vol, rho, mw):\n",
    "    # Convert volume (L) to moles with density (g/L) and molecular weight (g/mol)\n",
    "    mass = volToMass(vol, rho)\n",
    "    moles = massToMoles(mass, mw)\n",
    "    return moles"
   ]
  },
  {
   "cell_type": "code",
   "execution_count": 18,
   "metadata": {},
   "outputs": [],
   "source": [
    "def concMoleToPPM(cM, mw):\n",
    "    # https://www.gastec.co.jp/en/technology/knowledge/concentration/\n",
    "    # Assuming under standard conditions (1 atm, 25 Degree C)\n",
    "    # Convert unit from mol/L to g/L\n",
    "    cM = cM * mw\n",
    "    # Convert unit from g/L to mg/L and to mg/m^3\n",
    "    cM = cM * 1000 * 1000\n",
    "    # Convert unit from mg/m^3 to ppm\n",
    "    # mg/m^3*(22.4/MW) * (K/273.15) * 1atm\n",
    "    PPM = cM * (22.4/mw) * (K/273.15) * 1\n",
    "    return PPM"
   ]
  },
  {
   "cell_type": "code",
   "execution_count": 20,
   "metadata": {},
   "outputs": [
    {
     "name": "stdout",
     "output_type": "stream",
     "text": [
      "Water mass: 50.0 g\n",
      "Water moles: 2.7754217530895993 mol\n"
     ]
    }
   ],
   "source": [
    "   # Water\n",
    "   wRho = 1000 # density of water (g/L)\n",
    "   wMW = 18.01528 # molecular weight of water (g/mol)\n",
    "   wVP = 0.0313 # vapor pressure of water (atm) at 25 Degree C\n",
    "\n",
    "    # Volume of water (L)\n",
    "   wVol = 0.05\n",
    "\n",
    "    # Convert volume to mass\n",
    "   wMass = volToMass(wVol, wRho)\n",
    "\n",
    "    # Convert mass to moles\n",
    "   wMoles = massToMoles(wMass, wMW)\n",
    "print(f\"Water mass: {wMass} g\")\n",
    "print(f\"Water moles: {wMoles} mol\")"
   ]
  },
  {
   "cell_type": "code",
   "execution_count": 28,
   "metadata": {},
   "outputs": [
    {
     "name": "stdout",
     "output_type": "stream",
     "text": [
      "Acetone mass: 0.03955 g\n",
      "Acetone moles: 0.0006809573002754822 mol\n",
      "Acetone mole fraction: 0.0002452925454547929\n",
      "Acetone concentration: 1.3599781926605128e-07 mol/L\n",
      "Acetone concentration: 3.3251678412501535 ppm\n"
     ]
    }
   ],
   "source": [
    " # Acetone\n",
    "aRho = 791  # density of acetone (g/L)\n",
    "aMW = 58.08 # molecular weight of acetone (g/mol)\n",
    "aVP = 0.304 # vapor pressure of acetone (atm) at 25 Degree C\n",
    "\n",
    "  # Volume of acetone (L)\n",
    "aVol = 0.00005\n",
    "\n",
    "# Convert volume to mass\n",
    "aMass = volToMass(aVol, aRho)\n",
    "print(f\"Acetone mass: {aMass} g\")\n",
    "# Convert mass to moles\n",
    "aMoles = massToMoles(aMass, aMW)\n",
    "print(f\"Acetone moles: {aMoles} mol\")\n",
    "# Mole fraction of acetone\n",
    "aX = molFraction(aMoles, wMoles)\n",
    "print(f\"Acetone mole fraction: {aX}\")\n",
    "# Concentration of acetone\n",
    "aVPP = vocPP(aX, aVP, tATM)\n",
    "aConc = concMole(aVPP, R, K)\n",
    "print(f\"Acetone concentration: {aConc} mol/L\")\n",
    "# Vapor pressure of acetone\n",
    "aVPP = vocPP(aX, aVP, tATM)\n",
    "PPM = concMoleToPPM(aConc, aMW)\n",
    "print(f\"Acetone concentration: {PPM} ppm\")\n",
    "\n",
    "\n"
   ]
  },
  {
   "cell_type": "code",
   "execution_count": 29,
   "metadata": {},
   "outputs": [
    {
     "name": "stdout",
     "output_type": "stream",
     "text": [
      "Ethanol mass: 0.03955 g\n",
      "Ethanol moles: 0.0008585135017799775 mol\n",
      "Ethanol mole fraction: 0.0003091557398762847\n",
      "Ethanol concentration: 4.358854700579311e-08 mol/L\n",
      "Ethanol concentration: 4.358854700579311e-08 mol/L\n",
      "Ethanol concentration: 1.06574675632806 ppm\n"
     ]
    }
   ],
   "source": [
    "# Ethanol\n",
    "eRho = 791 # density of Ethanol (g/L)\n",
    "eMW = 46.068 # molecular weight of Ethanol (g/mol)\n",
    "eVP = 0.0773074 # vapor pressure of Ethanol (atm) at 25 Degree C\n",
    "\n",
    "    # Volume of Ethanol (L)\n",
    "eVol = 0.00005\n",
    "\n",
    "# Convert volume to mass\n",
    "eMass = volToMass(eVol, eRho)\n",
    "print(f\"Ethanol mass: {eMass} g\")\n",
    "# Convert mass to moles\n",
    "eMoles = massToMoles(eMass, eMW)\n",
    "print(f\"Ethanol moles: {eMoles} mol\")\n",
    "# Mole fraction of Ethanol\n",
    "eX =  molFractionsec(aMoles, wMoles, eMoles)\n",
    "print(f\"Ethanol mole fraction: {eX}\")\n",
    " # Vapor pressure of Ethanol\n",
    "eVPP = vocPP(eX, eVP, tATM)\n",
    " # Concentration of Ethanol\n",
    "eConc = concMole(eVPP, R, K)\n",
    "print(f\"Ethanol concentration: {eConc} mol/L\")\n",
    "# Vapor pressure of Ethanol\n",
    "eVPP = vocPP(eX, eVP, tATM)\n",
    "print(f\"Ethanol concentration: {eConc} mol/L\")\n",
    "PPM2 = concMoleToPPM(eConc, eMW)\n",
    "print(f\"Ethanol concentration: {PPM2} ppm\")\n"
   ]
  },
  {
   "cell_type": "code",
   "execution_count": 30,
   "metadata": {},
   "outputs": [
    {
     "name": "stdout",
     "output_type": "stream",
     "text": [
      "Water mass: 50.0 g\n",
      "Water moles: 2.7754217530895993 mol\n",
      "Acetone mass: 0.03955 g\n",
      "Acetone moles: 0.0006809573002754822 mol\n",
      "Acetone mole fraction: 0.0002452925454547929\n",
      "Acetone concentration: 1.3599781926605128e-07 mol/L\n",
      "Acetone concentration: 3.3251678412501535 ppm\n",
      "Ethanol mass: 0.03955 g\n",
      "Ethanol moles: 0.0008585135017799775 mol\n",
      "Ethanol mole fraction: 0.0003091557398762847\n",
      "Ethanol concentration: 4.358854700579311e-08 mol/L\n",
      "Ethanol concentration: 1.06574675632806 ppm\n"
     ]
    }
   ],
   "source": [
    "    print(f\"Water mass: {wMass} g\")\n",
    "    print(f\"Water moles: {wMoles} mol\")\n",
    "    print(f\"Acetone mass: {aMass} g\")\n",
    "    print(f\"Acetone moles: {aMoles} mol\")\n",
    "    print(f\"Acetone mole fraction: {aX}\")\n",
    "    print(f\"Acetone concentration: {aConc} mol/L\")\n",
    "    PPM = concMoleToPPM(aConc, aMW)\n",
    "    print(f\"Acetone concentration: {PPM} ppm\")\n",
    "\n",
    "    print(f\"Ethanol mass: {eMass} g\")\n",
    "    print(f\"Ethanol moles: {eMoles} mol\")\n",
    "    print(f\"Ethanol mole fraction: {eX}\")\n",
    "    print(f\"Ethanol concentration: {eConc} mol/L\")\n",
    "    PPM2 = concMoleToPPM(eConc, eMW)\n",
    "    print(f\"Ethanol concentration: {PPM2} ppm\")"
   ]
  }
 ],
 "metadata": {
  "kernelspec": {
   "display_name": "myenv",
   "language": "python",
   "name": "python3"
  },
  "language_info": {
   "codemirror_mode": {
    "name": "ipython",
    "version": 3
   },
   "file_extension": ".py",
   "mimetype": "text/x-python",
   "name": "python",
   "nbconvert_exporter": "python",
   "pygments_lexer": "ipython3",
   "version": "3.9.19"
  }
 },
 "nbformat": 4,
 "nbformat_minor": 2
}
